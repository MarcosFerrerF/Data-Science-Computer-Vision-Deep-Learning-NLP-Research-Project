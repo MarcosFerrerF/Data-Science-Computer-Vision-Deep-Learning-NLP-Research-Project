{
 "cells": [
  {
   "cell_type": "markdown",
   "id": "29284222",
   "metadata": {
    "papermill": {
     "duration": 0.023584,
     "end_time": "2021-10-03T04:09:33.182516",
     "exception": false,
     "start_time": "2021-10-03T04:09:33.158932",
     "status": "completed"
    },
    "tags": []
   },
   "source": [
    "# Load Libraries"
   ]
  },
  {
   "cell_type": "code",
   "execution_count": 1,
   "id": "3556a6a1",
   "metadata": {
    "execution": {
     "iopub.execute_input": "2021-10-03T04:09:33.230335Z",
     "iopub.status.busy": "2021-10-03T04:09:33.228829Z",
     "iopub.status.idle": "2021-10-03T04:09:38.308363Z",
     "shell.execute_reply": "2021-10-03T04:09:38.308942Z",
     "shell.execute_reply.started": "2021-10-03T03:58:09.502499Z"
    },
    "papermill": {
     "duration": 5.104439,
     "end_time": "2021-10-03T04:09:38.309237",
     "exception": false,
     "start_time": "2021-10-03T04:09:33.204798",
     "status": "completed"
    },
    "tags": []
   },
   "outputs": [
    {
     "name": "stderr",
     "output_type": "stream",
     "text": [
      "2021-10-03 04:09:34.755265: I tensorflow/stream_executor/platform/default/dso_loader.cc:49] Successfully opened dynamic library libcudart.so.11.0\n"
     ]
    }
   ],
   "source": [
    "import os\n",
    "import glob\n",
    "\n",
    "import pandas as pd\n",
    "import numpy as np\n",
    "from pathlib import Path\n",
    "\n",
    "import random\n",
    "from tqdm.notebook import tqdm\n",
    "import pydicom # Handle MRI images\n",
    "\n",
    "import cv2  # OpenCV - https://docs.opencv.org/master/d6/d00/tutorial_py_root.html\n",
    "\n",
    "from sklearn.model_selection import train_test_split\n",
    "from sklearn.metrics import roc_auc_score\n",
    "\n",
    "\n",
    "import tensorflow as tf\n",
    "from tensorflow import keras\n",
    "from tensorflow.keras.utils import to_categorical\n",
    "from tensorflow.keras import layers\n"
   ]
  },
  {
   "cell_type": "markdown",
   "id": "ea30dc64",
   "metadata": {
    "papermill": {
     "duration": 0.022869,
     "end_time": "2021-10-03T04:09:38.354049",
     "exception": false,
     "start_time": "2021-10-03T04:09:38.331180",
     "status": "completed"
    },
    "tags": []
   },
   "source": [
    "# Configuration, Constants, Setup"
   ]
  },
  {
   "cell_type": "code",
   "execution_count": 2,
   "id": "9f872cc9",
   "metadata": {
    "execution": {
     "iopub.execute_input": "2021-10-03T04:09:38.400149Z",
     "iopub.status.busy": "2021-10-03T04:09:38.399336Z",
     "iopub.status.idle": "2021-10-03T04:09:38.404327Z",
     "shell.execute_reply": "2021-10-03T04:09:38.403907Z",
     "shell.execute_reply.started": "2021-10-03T03:58:14.502105Z"
    },
    "papermill": {
     "duration": 0.028852,
     "end_time": "2021-10-03T04:09:38.404439",
     "exception": false,
     "start_time": "2021-10-03T04:09:38.375587",
     "status": "completed"
    },
    "tags": []
   },
   "outputs": [],
   "source": [
    "data_dir = Path('../input/rsna-miccai-brain-tumor-radiogenomic-classification/')\n",
    "\n",
    "mri_types = [\"FLAIR\", \"T1w\", \"T2w\", \"T1wCE\"]\n",
    "excluded_images = [109, 123, 709] # Bad images"
   ]
  },
  {
   "cell_type": "markdown",
   "id": "bfae2f4c",
   "metadata": {
    "papermill": {
     "duration": 0.020922,
     "end_time": "2021-10-03T04:09:38.446557",
     "exception": false,
     "start_time": "2021-10-03T04:09:38.425635",
     "status": "completed"
    },
    "tags": []
   },
   "source": [
    "# Load Datasets"
   ]
  },
  {
   "cell_type": "code",
   "execution_count": 3,
   "id": "8f683076",
   "metadata": {
    "execution": {
     "iopub.execute_input": "2021-10-03T04:09:38.494386Z",
     "iopub.status.busy": "2021-10-03T04:09:38.493784Z",
     "iopub.status.idle": "2021-10-03T04:09:38.521483Z",
     "shell.execute_reply": "2021-10-03T04:09:38.522005Z",
     "shell.execute_reply.started": "2021-10-03T03:59:20.715531Z"
    },
    "papermill": {
     "duration": 0.054501,
     "end_time": "2021-10-03T04:09:38.522191",
     "exception": false,
     "start_time": "2021-10-03T04:09:38.467690",
     "status": "completed"
    },
    "tags": []
   },
   "outputs": [
    {
     "name": "stdout",
     "output_type": "stream",
     "text": [
      "train data: Rows=582, Columns=2\n"
     ]
    }
   ],
   "source": [
    "train_df = pd.read_csv(data_dir / \"train_labels.csv\",\n",
    "#                        index='id',\n",
    "#                       nrows=100000\n",
    "                      )\n",
    "test_df = pd.read_csv(data_dir / \"sample_submission.csv\")\n",
    "sample_submission = pd.read_csv(data_dir / \"sample_submission.csv\")\n",
    "\n",
    "train_df = train_df[~train_df.BraTS21ID.isin(excluded_images)]\n",
    "\n",
    "print(f\"train data: Rows={train_df.shape[0]}, Columns={train_df.shape[1]}\")\n"
   ]
  },
  {
   "cell_type": "markdown",
   "id": "6c07ebd3",
   "metadata": {
    "papermill": {
     "duration": 0.021533,
     "end_time": "2021-10-03T04:09:38.565286",
     "exception": false,
     "start_time": "2021-10-03T04:09:38.543753",
     "status": "completed"
    },
    "tags": []
   },
   "source": [
    "# Utility Functions"
   ]
  },
  {
   "cell_type": "markdown",
   "id": "904543f5",
   "metadata": {
    "papermill": {
     "duration": 0.021153,
     "end_time": "2021-10-03T04:09:38.607549",
     "exception": false,
     "start_time": "2021-10-03T04:09:38.586396",
     "status": "completed"
    },
    "tags": []
   },
   "source": [
    "### There's a version that converts into grayscale: \n",
    "\n",
    "- https://www.kaggle.com/smoschou55/advanced-eda-brain-tumor-data\n"
   ]
  },
  {
   "cell_type": "code",
   "execution_count": 4,
   "id": "7872030e",
   "metadata": {
    "execution": {
     "iopub.execute_input": "2021-10-03T04:09:38.657286Z",
     "iopub.status.busy": "2021-10-03T04:09:38.656347Z",
     "iopub.status.idle": "2021-10-03T04:09:38.658453Z",
     "shell.execute_reply": "2021-10-03T04:09:38.658945Z",
     "shell.execute_reply.started": "2021-10-03T04:00:10.027835Z"
    },
    "papermill": {
     "duration": 0.030275,
     "end_time": "2021-10-03T04:09:38.659088",
     "exception": false,
     "start_time": "2021-10-03T04:09:38.628813",
     "status": "completed"
    },
    "tags": []
   },
   "outputs": [],
   "source": [
    "def load_dicom(path, size = 224):\n",
    "    ''' \n",
    "    Reads a DICOM image, standardizes so that the pixel values are between 0 and 1, then rescales to 0 and 255\n",
    "    \n",
    "    Not super sure if this kind of scaling is appropriate, but everyone seems to do it. \n",
    "    '''\n",
    "    dicom = pydicom.read_file(path)\n",
    "    data = dicom.pixel_array\n",
    "    # transform data into black and white scale / grayscale\n",
    "#     data = data - np.min(data)\n",
    "    if np.max(data) != 0:\n",
    "        data = data / np.max(data)\n",
    "    data = (data * 255).astype(np.uint8)\n",
    "    return cv2.resize(data, (size, size))"
   ]
  },
  {
   "cell_type": "code",
   "execution_count": 5,
   "id": "23d26af8",
   "metadata": {
    "execution": {
     "iopub.execute_input": "2021-10-03T04:09:38.713498Z",
     "iopub.status.busy": "2021-10-03T04:09:38.711901Z",
     "iopub.status.idle": "2021-10-03T04:09:38.714087Z",
     "shell.execute_reply": "2021-10-03T04:09:38.714504Z",
     "shell.execute_reply.started": "2021-10-03T04:01:06.156554Z"
    },
    "papermill": {
     "duration": 0.032974,
     "end_time": "2021-10-03T04:09:38.714628",
     "exception": false,
     "start_time": "2021-10-03T04:09:38.681654",
     "status": "completed"
    },
    "tags": []
   },
   "outputs": [],
   "source": [
    "def get_all_image_paths(brats21id, image_type, folder='train'): \n",
    "    '''\n",
    "    Returns an arry of all the images of a particular type for a particular patient ID\n",
    "    '''\n",
    "    assert(image_type in mri_types)\n",
    "    \n",
    "    patient_path = os.path.join(\n",
    "        \"../input/rsna-miccai-brain-tumor-radiogenomic-classification/%s/\" % folder, \n",
    "        str(brats21id).zfill(5),\n",
    "    )\n",
    "\n",
    "    paths = sorted(\n",
    "        glob.glob(os.path.join(patient_path, image_type, \"*\")), \n",
    "        key=lambda x: int(x[:-4].split(\"-\")[-1]),\n",
    "    )\n",
    "    \n",
    "    num_images = len(paths)\n",
    "    \n",
    "    start = int(num_images * 0.25)\n",
    "    end = int(num_images * 0.75)\n",
    "\n",
    "    interval = 3\n",
    "    \n",
    "    if num_images < 10: \n",
    "        interval = 1\n",
    "    \n",
    "    return np.array(paths[start:end:interval])\n",
    "\n",
    "def get_all_images(brats21id, image_type, folder='train', size=225):\n",
    "    return [load_dicom(path, size) for path in get_all_image_paths(brats21id, image_type, folder)]"
   ]
  },
  {
   "cell_type": "markdown",
   "id": "2f130964",
   "metadata": {
    "papermill": {
     "duration": 0.021503,
     "end_time": "2021-10-03T04:09:38.758036",
     "exception": false,
     "start_time": "2021-10-03T04:09:38.736533",
     "status": "completed"
    },
    "tags": []
   },
   "source": [
    "# Load Images We Will Need"
   ]
  },
  {
   "cell_type": "code",
   "execution_count": 6,
   "id": "2074df87",
   "metadata": {
    "execution": {
     "iopub.execute_input": "2021-10-03T04:09:38.810494Z",
     "iopub.status.busy": "2021-10-03T04:09:38.809552Z",
     "iopub.status.idle": "2021-10-03T04:09:38.811519Z",
     "shell.execute_reply": "2021-10-03T04:09:38.811904Z",
     "shell.execute_reply.started": "2021-10-03T04:01:43.723848Z"
    },
    "papermill": {
     "duration": 0.031927,
     "end_time": "2021-10-03T04:09:38.812046",
     "exception": false,
     "start_time": "2021-10-03T04:09:38.780119",
     "status": "completed"
    },
    "tags": []
   },
   "outputs": [],
   "source": [
    "def get_all_data_for_train(image_type, image_size=32):\n",
    "    global train_df\n",
    "    \n",
    "    X = []\n",
    "    y = []\n",
    "    train_ids = []\n",
    "\n",
    "    for i in tqdm(train_df.index):\n",
    "        x = train_df.loc[i]\n",
    "        images = get_all_images(int(x['BraTS21ID']), image_type, 'train', image_size)\n",
    "        label = x['MGMT_value']\n",
    "\n",
    "        X += images\n",
    "        y += [label] * len(images)\n",
    "        train_ids += [int(x['BraTS21ID'])] * len(images)\n",
    "        assert(len(X) == len(y))\n",
    "    return np.array(X), np.array(y), np.array(train_ids)"
   ]
  },
  {
   "cell_type": "code",
   "execution_count": 7,
   "id": "fa6c9ce5",
   "metadata": {
    "execution": {
     "iopub.execute_input": "2021-10-03T04:09:38.859967Z",
     "iopub.status.busy": "2021-10-03T04:09:38.859093Z",
     "iopub.status.idle": "2021-10-03T04:09:38.865609Z",
     "shell.execute_reply": "2021-10-03T04:09:38.865138Z",
     "shell.execute_reply.started": "2021-10-03T04:01:46.987326Z"
    },
    "papermill": {
     "duration": 0.031598,
     "end_time": "2021-10-03T04:09:38.865721",
     "exception": false,
     "start_time": "2021-10-03T04:09:38.834123",
     "status": "completed"
    },
    "tags": []
   },
   "outputs": [],
   "source": [
    "def get_all_data_for_test(image_type, image_size=32):\n",
    "    global test_df\n",
    "    \n",
    "    X = []\n",
    "    test_ids = []\n",
    "\n",
    "    for i in tqdm(test_df.index):\n",
    "        x = test_df.loc[i]\n",
    "        images = get_all_images(int(x['BraTS21ID']), image_type, 'test', image_size)\n",
    "        X += images\n",
    "        test_ids += [int(x['BraTS21ID'])] * len(images)\n",
    "\n",
    "    return np.array(X), np.array(test_ids)"
   ]
  },
  {
   "cell_type": "code",
   "execution_count": 8,
   "id": "1d5dbf85",
   "metadata": {
    "execution": {
     "iopub.execute_input": "2021-10-03T04:09:38.914769Z",
     "iopub.status.busy": "2021-10-03T04:09:38.913886Z",
     "iopub.status.idle": "2021-10-03T04:12:04.039110Z",
     "shell.execute_reply": "2021-10-03T04:12:04.038618Z",
     "shell.execute_reply.started": "2021-10-03T04:01:58.153410Z"
    },
    "papermill": {
     "duration": 145.151488,
     "end_time": "2021-10-03T04:12:04.039268",
     "exception": false,
     "start_time": "2021-10-03T04:09:38.887780",
     "status": "completed"
    },
    "tags": []
   },
   "outputs": [
    {
     "data": {
      "application/vnd.jupyter.widget-view+json": {
       "model_id": "106bb3281dc943f0adf2d1ff6bce9bd5",
       "version_major": 2,
       "version_minor": 0
      },
      "text/plain": [
       "  0%|          | 0/582 [00:00<?, ?it/s]"
      ]
     },
     "metadata": {},
     "output_type": "display_data"
    },
    {
     "data": {
      "application/vnd.jupyter.widget-view+json": {
       "model_id": "3669ce2d49164b34b5f1f1cdacae29d2",
       "version_major": 2,
       "version_minor": 0
      },
      "text/plain": [
       "  0%|          | 0/87 [00:00<?, ?it/s]"
      ]
     },
     "metadata": {},
     "output_type": "display_data"
    }
   ],
   "source": [
    "X, y, trainidt = get_all_data_for_train('T1wCE', image_size=32)\n",
    "X_test, testidt = get_all_data_for_test('T1wCE', image_size=32)"
   ]
  },
  {
   "cell_type": "code",
   "execution_count": 9,
   "id": "4bfa405b",
   "metadata": {
    "execution": {
     "iopub.execute_input": "2021-10-03T04:12:04.092378Z",
     "iopub.status.busy": "2021-10-03T04:12:04.091235Z",
     "iopub.status.idle": "2021-10-03T04:12:04.094322Z",
     "shell.execute_reply": "2021-10-03T04:12:04.094688Z",
     "shell.execute_reply.started": "2021-10-03T04:05:46.704802Z"
    },
    "papermill": {
     "duration": 0.032256,
     "end_time": "2021-10-03T04:12:04.094825",
     "exception": false,
     "start_time": "2021-10-03T04:12:04.062569",
     "status": "completed"
    },
    "tags": []
   },
   "outputs": [
    {
     "data": {
      "text/plain": [
       "((16196, 32, 32), (16196,), (16196,))"
      ]
     },
     "execution_count": 9,
     "metadata": {},
     "output_type": "execute_result"
    }
   ],
   "source": [
    "X.shape, y.shape, trainidt.shape"
   ]
  },
  {
   "cell_type": "markdown",
   "id": "cd7bfdc8",
   "metadata": {
    "papermill": {
     "duration": 0.025096,
     "end_time": "2021-10-03T04:12:04.142287",
     "exception": false,
     "start_time": "2021-10-03T04:12:04.117191",
     "status": "completed"
    },
    "tags": []
   },
   "source": [
    "# Train/Validation Split"
   ]
  },
  {
   "cell_type": "code",
   "execution_count": 10,
   "id": "b738194c",
   "metadata": {
    "execution": {
     "iopub.execute_input": "2021-10-03T04:12:04.194585Z",
     "iopub.status.busy": "2021-10-03T04:12:04.193987Z",
     "iopub.status.idle": "2021-10-03T04:12:04.205598Z",
     "shell.execute_reply": "2021-10-03T04:12:04.205135Z",
     "shell.execute_reply.started": "2021-10-03T04:05:53.753816Z"
    },
    "papermill": {
     "duration": 0.039087,
     "end_time": "2021-10-03T04:12:04.205724",
     "exception": false,
     "start_time": "2021-10-03T04:12:04.166637",
     "status": "completed"
    },
    "tags": []
   },
   "outputs": [],
   "source": [
    "X_train, X_valid, y_train, y_valid, trainidt_train, trainidt_valid = train_test_split(X, y, trainidt, test_size=0.15, random_state=42)"
   ]
  },
  {
   "cell_type": "markdown",
   "id": "fc3d18af",
   "metadata": {
    "papermill": {
     "duration": 0.021694,
     "end_time": "2021-10-03T04:12:04.249575",
     "exception": false,
     "start_time": "2021-10-03T04:12:04.227881",
     "status": "completed"
    },
    "tags": []
   },
   "source": [
    "## Remove dimension"
   ]
  },
  {
   "cell_type": "code",
   "execution_count": 11,
   "id": "9cde2a65",
   "metadata": {
    "execution": {
     "iopub.execute_input": "2021-10-03T04:12:05.725600Z",
     "iopub.status.busy": "2021-10-03T04:12:04.422249Z",
     "iopub.status.idle": "2021-10-03T04:12:06.034832Z",
     "shell.execute_reply": "2021-10-03T04:12:06.034108Z",
     "shell.execute_reply.started": "2021-10-03T04:05:59.664843Z"
    },
    "papermill": {
     "duration": 1.76333,
     "end_time": "2021-10-03T04:12:06.034980",
     "exception": false,
     "start_time": "2021-10-03T04:12:04.271650",
     "status": "completed"
    },
    "tags": []
   },
   "outputs": [
    {
     "name": "stderr",
     "output_type": "stream",
     "text": [
      "2021-10-03 04:12:04.300622: I tensorflow/compiler/jit/xla_cpu_device.cc:41] Not creating XLA devices, tf_xla_enable_xla_devices not set\n",
      "2021-10-03 04:12:04.303485: I tensorflow/stream_executor/platform/default/dso_loader.cc:49] Successfully opened dynamic library libcuda.so.1\n",
      "2021-10-03 04:12:04.340295: I tensorflow/stream_executor/cuda/cuda_gpu_executor.cc:941] successful NUMA node read from SysFS had negative value (-1), but there must be at least one NUMA node, so returning NUMA node zero\n",
      "2021-10-03 04:12:04.340937: I tensorflow/core/common_runtime/gpu/gpu_device.cc:1720] Found device 0 with properties: \n",
      "pciBusID: 0000:00:04.0 name: Tesla P100-PCIE-16GB computeCapability: 6.0\n",
      "coreClock: 1.3285GHz coreCount: 56 deviceMemorySize: 15.90GiB deviceMemoryBandwidth: 681.88GiB/s\n",
      "2021-10-03 04:12:04.340999: I tensorflow/stream_executor/platform/default/dso_loader.cc:49] Successfully opened dynamic library libcudart.so.11.0\n",
      "2021-10-03 04:12:04.364833: I tensorflow/stream_executor/platform/default/dso_loader.cc:49] Successfully opened dynamic library libcublas.so.11\n",
      "2021-10-03 04:12:04.364944: I tensorflow/stream_executor/platform/default/dso_loader.cc:49] Successfully opened dynamic library libcublasLt.so.11\n",
      "2021-10-03 04:12:04.379823: I tensorflow/stream_executor/platform/default/dso_loader.cc:49] Successfully opened dynamic library libcufft.so.10\n",
      "2021-10-03 04:12:04.387404: I tensorflow/stream_executor/platform/default/dso_loader.cc:49] Successfully opened dynamic library libcurand.so.10\n",
      "2021-10-03 04:12:04.409498: I tensorflow/stream_executor/platform/default/dso_loader.cc:49] Successfully opened dynamic library libcusolver.so.10\n",
      "2021-10-03 04:12:04.415698: I tensorflow/stream_executor/platform/default/dso_loader.cc:49] Successfully opened dynamic library libcusparse.so.11\n",
      "2021-10-03 04:12:04.418249: I tensorflow/stream_executor/platform/default/dso_loader.cc:49] Successfully opened dynamic library libcudnn.so.8\n",
      "2021-10-03 04:12:04.418440: I tensorflow/stream_executor/cuda/cuda_gpu_executor.cc:941] successful NUMA node read from SysFS had negative value (-1), but there must be at least one NUMA node, so returning NUMA node zero\n",
      "2021-10-03 04:12:04.419107: I tensorflow/stream_executor/cuda/cuda_gpu_executor.cc:941] successful NUMA node read from SysFS had negative value (-1), but there must be at least one NUMA node, so returning NUMA node zero\n",
      "2021-10-03 04:12:04.420411: I tensorflow/core/common_runtime/gpu/gpu_device.cc:1862] Adding visible gpu devices: 0\n",
      "2021-10-03 04:12:04.423314: I tensorflow/core/platform/cpu_feature_guard.cc:142] This TensorFlow binary is optimized with oneAPI Deep Neural Network Library (oneDNN) to use the following CPU instructions in performance-critical operations:  AVX2 AVX512F FMA\n",
      "To enable them in other operations, rebuild TensorFlow with the appropriate compiler flags.\n",
      "2021-10-03 04:12:04.424413: I tensorflow/compiler/jit/xla_gpu_device.cc:99] Not creating XLA devices, tf_xla_enable_xla_devices not set\n",
      "2021-10-03 04:12:04.424578: I tensorflow/stream_executor/cuda/cuda_gpu_executor.cc:941] successful NUMA node read from SysFS had negative value (-1), but there must be at least one NUMA node, so returning NUMA node zero\n",
      "2021-10-03 04:12:04.425144: I tensorflow/core/common_runtime/gpu/gpu_device.cc:1720] Found device 0 with properties: \n",
      "pciBusID: 0000:00:04.0 name: Tesla P100-PCIE-16GB computeCapability: 6.0\n",
      "coreClock: 1.3285GHz coreCount: 56 deviceMemorySize: 15.90GiB deviceMemoryBandwidth: 681.88GiB/s\n",
      "2021-10-03 04:12:04.425189: I tensorflow/stream_executor/platform/default/dso_loader.cc:49] Successfully opened dynamic library libcudart.so.11.0\n",
      "2021-10-03 04:12:04.425266: I tensorflow/stream_executor/platform/default/dso_loader.cc:49] Successfully opened dynamic library libcublas.so.11\n",
      "2021-10-03 04:12:04.425292: I tensorflow/stream_executor/platform/default/dso_loader.cc:49] Successfully opened dynamic library libcublasLt.so.11\n",
      "2021-10-03 04:12:04.425311: I tensorflow/stream_executor/platform/default/dso_loader.cc:49] Successfully opened dynamic library libcufft.so.10\n",
      "2021-10-03 04:12:04.425335: I tensorflow/stream_executor/platform/default/dso_loader.cc:49] Successfully opened dynamic library libcurand.so.10\n",
      "2021-10-03 04:12:04.425363: I tensorflow/stream_executor/platform/default/dso_loader.cc:49] Successfully opened dynamic library libcusolver.so.10\n",
      "2021-10-03 04:12:04.425384: I tensorflow/stream_executor/platform/default/dso_loader.cc:49] Successfully opened dynamic library libcusparse.so.11\n",
      "2021-10-03 04:12:04.425403: I tensorflow/stream_executor/platform/default/dso_loader.cc:49] Successfully opened dynamic library libcudnn.so.8\n",
      "2021-10-03 04:12:04.425499: I tensorflow/stream_executor/cuda/cuda_gpu_executor.cc:941] successful NUMA node read from SysFS had negative value (-1), but there must be at least one NUMA node, so returning NUMA node zero\n",
      "2021-10-03 04:12:04.426225: I tensorflow/stream_executor/cuda/cuda_gpu_executor.cc:941] successful NUMA node read from SysFS had negative value (-1), but there must be at least one NUMA node, so returning NUMA node zero\n",
      "2021-10-03 04:12:04.426775: I tensorflow/core/common_runtime/gpu/gpu_device.cc:1862] Adding visible gpu devices: 0\n",
      "2021-10-03 04:12:04.427380: I tensorflow/stream_executor/platform/default/dso_loader.cc:49] Successfully opened dynamic library libcudart.so.11.0\n",
      "2021-10-03 04:12:05.706507: I tensorflow/core/common_runtime/gpu/gpu_device.cc:1261] Device interconnect StreamExecutor with strength 1 edge matrix:\n",
      "2021-10-03 04:12:05.706555: I tensorflow/core/common_runtime/gpu/gpu_device.cc:1267]      0 \n",
      "2021-10-03 04:12:05.706566: I tensorflow/core/common_runtime/gpu/gpu_device.cc:1280] 0:   N \n",
      "2021-10-03 04:12:05.708398: I tensorflow/stream_executor/cuda/cuda_gpu_executor.cc:941] successful NUMA node read from SysFS had negative value (-1), but there must be at least one NUMA node, so returning NUMA node zero\n",
      "2021-10-03 04:12:05.709099: I tensorflow/stream_executor/cuda/cuda_gpu_executor.cc:941] successful NUMA node read from SysFS had negative value (-1), but there must be at least one NUMA node, so returning NUMA node zero\n",
      "2021-10-03 04:12:05.709778: I tensorflow/stream_executor/cuda/cuda_gpu_executor.cc:941] successful NUMA node read from SysFS had negative value (-1), but there must be at least one NUMA node, so returning NUMA node zero\n",
      "2021-10-03 04:12:05.710357: I tensorflow/core/common_runtime/gpu/gpu_device.cc:1406] Created TensorFlow device (/job:localhost/replica:0/task:0/device:GPU:0 with 14957 MB memory) -> physical GPU (device: 0, name: Tesla P100-PCIE-16GB, pci bus id: 0000:00:04.0, compute capability: 6.0)\n"
     ]
    }
   ],
   "source": [
    "X_train = tf.expand_dims(X_train, axis=-1)\n",
    "X_valid = tf.expand_dims(X_valid, axis=-1)"
   ]
  },
  {
   "cell_type": "markdown",
   "id": "b4524883",
   "metadata": {
    "papermill": {
     "duration": 0.02219,
     "end_time": "2021-10-03T04:12:06.080651",
     "exception": false,
     "start_time": "2021-10-03T04:12:06.058461",
     "status": "completed"
    },
    "tags": []
   },
   "source": [
    "## One-hot encode labels"
   ]
  },
  {
   "cell_type": "code",
   "execution_count": 12,
   "id": "85b22f5f",
   "metadata": {
    "execution": {
     "iopub.execute_input": "2021-10-03T04:12:06.129846Z",
     "iopub.status.busy": "2021-10-03T04:12:06.129313Z",
     "iopub.status.idle": "2021-10-03T04:12:06.133600Z",
     "shell.execute_reply": "2021-10-03T04:12:06.133131Z",
     "shell.execute_reply.started": "2021-10-03T04:06:07.521135Z"
    },
    "papermill": {
     "duration": 0.030644,
     "end_time": "2021-10-03T04:12:06.133716",
     "exception": false,
     "start_time": "2021-10-03T04:12:06.103072",
     "status": "completed"
    },
    "tags": []
   },
   "outputs": [],
   "source": [
    "y_train = to_categorical(y_train)\n",
    "y_valid = to_categorical(y_valid)"
   ]
  },
  {
   "cell_type": "markdown",
   "id": "8785773c",
   "metadata": {
    "papermill": {
     "duration": 0.022308,
     "end_time": "2021-10-03T04:12:06.179180",
     "exception": false,
     "start_time": "2021-10-03T04:12:06.156872",
     "status": "completed"
    },
    "tags": []
   },
   "source": [
    "# Tensorflow Models"
   ]
  },
  {
   "cell_type": "markdown",
   "id": "981c3e70",
   "metadata": {
    "papermill": {
     "duration": 0.02231,
     "end_time": "2021-10-03T04:12:06.224186",
     "exception": false,
     "start_time": "2021-10-03T04:12:06.201876",
     "status": "completed"
    },
    "tags": []
   },
   "source": [
    "## Model from:  https://www.kaggle.com/ohbewise/dataset-to-model-with-tensorflow"
   ]
  },
  {
   "cell_type": "code",
   "execution_count": 13,
   "id": "088a748a",
   "metadata": {
    "execution": {
     "iopub.execute_input": "2021-10-03T04:12:06.280348Z",
     "iopub.status.busy": "2021-10-03T04:12:06.279494Z",
     "iopub.status.idle": "2021-10-03T04:12:06.282077Z",
     "shell.execute_reply": "2021-10-03T04:12:06.281631Z",
     "shell.execute_reply.started": "2021-10-03T04:07:28.008200Z"
    },
    "papermill": {
     "duration": 0.035745,
     "end_time": "2021-10-03T04:12:06.282183",
     "exception": false,
     "start_time": "2021-10-03T04:12:06.246438",
     "status": "completed"
    },
    "tags": []
   },
   "outputs": [],
   "source": [
    "# Define, train, and evaluate model\n",
    "# source: https://keras.io/examples/vision/3D_image_classification/\n",
    "def get_model01(width=128, height=128, depth=64, name='3dcnn'):\n",
    "    \"\"\"Build a 3D convolutional neural network model.\"\"\"\n",
    "\n",
    "    inputs = tf.keras.Input((width, height, depth, 1))\n",
    "\n",
    "    x = tf.keras.layers.Conv3D(filters=64, kernel_size=3, activation=\"relu\")(inputs)\n",
    "    x = tf.keras.layers.MaxPool3D(pool_size=2)(x)\n",
    "\n",
    "\n",
    "    x = tf.keras.layers.Conv3D(filters=128, kernel_size=3, activation=\"relu\")(x)\n",
    "    x = tf.keras.layers.MaxPool3D(pool_size=2)(x)\n",
    "\n",
    "    x = tf.keras.layers.Conv3D(filters=256, kernel_size=3, activation=\"relu\")(x)\n",
    "    x = tf.keras.layers.MaxPool3D(pool_size=2)(x)\n",
    "\n",
    "    x = tf.keras.layers.GlobalAveragePooling3D()(x)\n",
    "    x = tf.keras.layers.Dense(units=512, activation=\"relu\")(x)\n",
    "    x = tf.keras.layers.Dropout(0.4)(x)\n",
    "\n",
    "    outputs = tf.keras.layers.Dense(units=1, activation=\"sigmoid\")(x)\n",
    "\n",
    "    # Define the model.\n",
    "    model = tf.keras.Model(inputs, outputs, name=name)\n",
    "    \n",
    "    # Compile model.\n",
    "    initial_learning_rate = 0.001\n",
    "    lr_schedule = tf.keras.optimizers.schedules.ExponentialDecay(\n",
    "        initial_learning_rate, decay_steps=100000, decay_rate=0.70, staircase=True\n",
    "    )\n",
    "    model.compile(\n",
    "        loss=\"binary_crossentropy\",\n",
    "        optimizer=tf.keras.optimizers.Adam(learning_rate=lr_schedule),\n",
    "        metrics=[\"acc\"],\n",
    "    )\n",
    "    \n",
    "    return model\n",
    "\n"
   ]
  },
  {
   "cell_type": "markdown",
   "id": "7d6e2e72",
   "metadata": {
    "papermill": {
     "duration": 0.022142,
     "end_time": "2021-10-03T04:12:06.326693",
     "exception": false,
     "start_time": "2021-10-03T04:12:06.304551",
     "status": "completed"
    },
    "tags": []
   },
   "source": [
    "## Model from: https://www.kaggle.com/evanyao27/team-9-second-week/notebook\n",
    "\n",
    "- Validation AUC=0.9148664856146349"
   ]
  },
  {
   "cell_type": "code",
   "execution_count": 14,
   "id": "d1571d6d",
   "metadata": {
    "execution": {
     "iopub.execute_input": "2021-10-03T04:12:06.380528Z",
     "iopub.status.busy": "2021-10-03T04:12:06.379099Z",
     "iopub.status.idle": "2021-10-03T04:12:06.382366Z",
     "shell.execute_reply": "2021-10-03T04:12:06.382741Z",
     "shell.execute_reply.started": "2021-10-03T04:08:15.120971Z"
    },
    "papermill": {
     "duration": 0.033953,
     "end_time": "2021-10-03T04:12:06.382874",
     "exception": false,
     "start_time": "2021-10-03T04:12:06.348921",
     "status": "completed"
    },
    "tags": []
   },
   "outputs": [],
   "source": [
    "def get_model02():\n",
    "    np.random.seed(0)\n",
    "    random.seed(12)\n",
    "    tf.random.set_seed(12)\n",
    "\n",
    "    inpt = keras.Input(shape=X_train.shape[1:])\n",
    "\n",
    "    h = keras.layers.experimental.preprocessing.Rescaling(1.0 / 255)(inpt)\n",
    "\n",
    "    h = keras.layers.Conv2D(64, kernel_size=(3, 3), activation=\"relu\", name=\"Conv_1\")(h)\n",
    "    h = keras.layers.MaxPool2D(pool_size=(2, 2))(h)\n",
    "\n",
    "    h = keras.layers.Conv2D(32, kernel_size=(2, 2), activation=\"relu\", name=\"Conv_2\")(h)\n",
    "    h = keras.layers.MaxPool2D(pool_size=(1, 1))(h)\n",
    "\n",
    "    h = keras.layers.Dropout(0.1)(h)\n",
    "\n",
    "    h = keras.layers.Flatten()(h)\n",
    "    h = keras.layers.Dense(32, activation=\"relu\")(h)\n",
    "\n",
    "    output = keras.layers.Dense(2, activation=\"softmax\")(h)\n",
    "\n",
    "    model = keras.Model(inpt, output)\n",
    "\n",
    "    model.compile(\n",
    "        loss=\"categorical_crossentropy\", optimizer=\"adam\", metrics=[tf.keras.metrics.AUC()]\n",
    "    )\n",
    "    return model"
   ]
  },
  {
   "cell_type": "markdown",
   "id": "aeeb8dd5",
   "metadata": {
    "papermill": {
     "duration": 0.022862,
     "end_time": "2021-10-03T04:12:06.427961",
     "exception": false,
     "start_time": "2021-10-03T04:12:06.405099",
     "status": "completed"
    },
    "tags": []
   },
   "source": [
    "## Set up Model Checkpoint"
   ]
  },
  {
   "cell_type": "code",
   "execution_count": 15,
   "id": "bf962139",
   "metadata": {
    "execution": {
     "iopub.execute_input": "2021-10-03T04:12:06.478323Z",
     "iopub.status.busy": "2021-10-03T04:12:06.477595Z",
     "iopub.status.idle": "2021-10-03T04:12:06.479848Z",
     "shell.execute_reply": "2021-10-03T04:12:06.480267Z",
     "shell.execute_reply.started": "2021-10-03T04:08:18.895592Z"
    },
    "papermill": {
     "duration": 0.03002,
     "end_time": "2021-10-03T04:12:06.480395",
     "exception": false,
     "start_time": "2021-10-03T04:12:06.450375",
     "status": "completed"
    },
    "tags": []
   },
   "outputs": [],
   "source": [
    "checkpoint_filepath = \"best_model.h5\"\n",
    "\n",
    "model_checkpoint_callback = tf.keras.callbacks.ModelCheckpoint(\n",
    "    filepath=checkpoint_filepath,\n",
    "    save_weights_only=False,\n",
    "    monitor=\"val_auc\",\n",
    "    mode=\"max\",\n",
    "    save_best_only=True,\n",
    "    save_freq=\"epoch\",\n",
    "    verbose=1,\n",
    ")"
   ]
  },
  {
   "cell_type": "markdown",
   "id": "d24020ea",
   "metadata": {
    "papermill": {
     "duration": 0.022012,
     "end_time": "2021-10-03T04:12:06.524529",
     "exception": false,
     "start_time": "2021-10-03T04:12:06.502517",
     "status": "completed"
    },
    "tags": []
   },
   "source": [
    "### Note that rerunning the cell below will change val_acc to val_acc_N and the model will not be saved."
   ]
  },
  {
   "cell_type": "code",
   "execution_count": 16,
   "id": "63653b94",
   "metadata": {
    "execution": {
     "iopub.execute_input": "2021-10-03T04:12:06.573601Z",
     "iopub.status.busy": "2021-10-03T04:12:06.573016Z",
     "iopub.status.idle": "2021-10-03T04:13:14.438703Z",
     "shell.execute_reply": "2021-10-03T04:13:14.439530Z"
    },
    "papermill": {
     "duration": 67.892842,
     "end_time": "2021-10-03T04:13:14.439799",
     "exception": false,
     "start_time": "2021-10-03T04:12:06.546957",
     "status": "completed"
    },
    "tags": []
   },
   "outputs": [
    {
     "name": "stderr",
     "output_type": "stream",
     "text": [
      "2021-10-03 04:12:06.885234: I tensorflow/compiler/mlir/mlir_graph_optimization_pass.cc:116] None of the MLIR optimization passes are enabled (registered 2)\n",
      "2021-10-03 04:12:06.893698: I tensorflow/core/platform/profile_utils/cpu_utils.cc:112] CPU Frequency: 2000134999 Hz\n"
     ]
    },
    {
     "name": "stdout",
     "output_type": "stream",
     "text": [
      "Epoch 1/30\n"
     ]
    },
    {
     "name": "stderr",
     "output_type": "stream",
     "text": [
      "2021-10-03 04:12:07.539700: I tensorflow/stream_executor/platform/default/dso_loader.cc:49] Successfully opened dynamic library libcublas.so.11\n",
      "2021-10-03 04:12:08.298529: I tensorflow/stream_executor/platform/default/dso_loader.cc:49] Successfully opened dynamic library libcublasLt.so.11\n",
      "2021-10-03 04:12:08.321578: I tensorflow/stream_executor/platform/default/dso_loader.cc:49] Successfully opened dynamic library libcudnn.so.8\n"
     ]
    },
    {
     "name": "stdout",
     "output_type": "stream",
     "text": [
      "431/431 [==============================] - 9s 7ms/step - loss: 0.6866 - auc: 0.5709 - val_loss: 0.6764 - val_auc: 0.6011\n",
      "\n",
      "Epoch 00001: val_auc improved from -inf to 0.60112, saving model to best_model.h5\n",
      "Epoch 2/30\n",
      "431/431 [==============================] - 2s 4ms/step - loss: 0.6711 - auc: 0.6169 - val_loss: 0.6645 - val_auc: 0.6310\n",
      "\n",
      "Epoch 00002: val_auc improved from 0.60112 to 0.63099, saving model to best_model.h5\n",
      "Epoch 3/30\n",
      "431/431 [==============================] - 2s 5ms/step - loss: 0.6553 - auc: 0.6524 - val_loss: 0.6438 - val_auc: 0.6735\n",
      "\n",
      "Epoch 00003: val_auc improved from 0.63099 to 0.67354, saving model to best_model.h5\n",
      "Epoch 4/30\n",
      "431/431 [==============================] - 2s 5ms/step - loss: 0.6312 - auc: 0.6885 - val_loss: 0.6246 - val_auc: 0.7047\n",
      "\n",
      "Epoch 00004: val_auc improved from 0.67354 to 0.70471, saving model to best_model.h5\n",
      "Epoch 5/30\n",
      "431/431 [==============================] - 2s 4ms/step - loss: 0.6065 - auc: 0.7258 - val_loss: 0.6081 - val_auc: 0.7207\n",
      "\n",
      "Epoch 00005: val_auc improved from 0.70471 to 0.72066, saving model to best_model.h5\n",
      "Epoch 6/30\n",
      "431/431 [==============================] - 2s 4ms/step - loss: 0.5603 - auc: 0.7791 - val_loss: 0.5751 - val_auc: 0.7593\n",
      "\n",
      "Epoch 00006: val_auc improved from 0.72066 to 0.75932, saving model to best_model.h5\n",
      "Epoch 7/30\n",
      "431/431 [==============================] - 2s 4ms/step - loss: 0.5192 - auc: 0.8183 - val_loss: 0.5607 - val_auc: 0.7828\n",
      "\n",
      "Epoch 00007: val_auc improved from 0.75932 to 0.78277, saving model to best_model.h5\n",
      "Epoch 8/30\n",
      "431/431 [==============================] - 2s 4ms/step - loss: 0.4606 - auc: 0.8634 - val_loss: 0.5244 - val_auc: 0.8128\n",
      "\n",
      "Epoch 00008: val_auc improved from 0.78277 to 0.81279, saving model to best_model.h5\n",
      "Epoch 9/30\n",
      "431/431 [==============================] - 2s 5ms/step - loss: 0.4141 - auc: 0.8917 - val_loss: 0.5172 - val_auc: 0.8205\n",
      "\n",
      "Epoch 00009: val_auc improved from 0.81279 to 0.82054, saving model to best_model.h5\n",
      "Epoch 10/30\n",
      "431/431 [==============================] - 2s 5ms/step - loss: 0.3783 - auc: 0.9115 - val_loss: 0.5131 - val_auc: 0.8321\n",
      "\n",
      "Epoch 00010: val_auc improved from 0.82054 to 0.83212, saving model to best_model.h5\n",
      "Epoch 11/30\n",
      "431/431 [==============================] - 2s 4ms/step - loss: 0.3407 - auc: 0.9299 - val_loss: 0.5048 - val_auc: 0.8416\n",
      "\n",
      "Epoch 00011: val_auc improved from 0.83212 to 0.84156, saving model to best_model.h5\n",
      "Epoch 12/30\n",
      "431/431 [==============================] - 2s 5ms/step - loss: 0.3054 - auc: 0.9440 - val_loss: 0.5233 - val_auc: 0.8437\n",
      "\n",
      "Epoch 00012: val_auc improved from 0.84156 to 0.84373, saving model to best_model.h5\n",
      "Epoch 13/30\n",
      "431/431 [==============================] - 2s 4ms/step - loss: 0.2886 - auc: 0.9500 - val_loss: 0.5136 - val_auc: 0.8516\n",
      "\n",
      "Epoch 00013: val_auc improved from 0.84373 to 0.85162, saving model to best_model.h5\n",
      "Epoch 14/30\n",
      "431/431 [==============================] - 2s 4ms/step - loss: 0.2551 - auc: 0.9615 - val_loss: 0.5147 - val_auc: 0.8569\n",
      "\n",
      "Epoch 00014: val_auc improved from 0.85162 to 0.85686, saving model to best_model.h5\n",
      "Epoch 15/30\n",
      "431/431 [==============================] - 2s 5ms/step - loss: 0.2333 - auc: 0.9682 - val_loss: 0.5312 - val_auc: 0.8550\n",
      "\n",
      "Epoch 00015: val_auc did not improve from 0.85686\n",
      "Epoch 16/30\n",
      "431/431 [==============================] - 2s 6ms/step - loss: 0.2186 - auc: 0.9722 - val_loss: 0.5214 - val_auc: 0.8646\n",
      "\n",
      "Epoch 00016: val_auc improved from 0.85686 to 0.86464, saving model to best_model.h5\n",
      "Epoch 17/30\n",
      "431/431 [==============================] - 2s 4ms/step - loss: 0.1946 - auc: 0.9778 - val_loss: 0.5562 - val_auc: 0.8583\n",
      "\n",
      "Epoch 00017: val_auc did not improve from 0.86464\n",
      "Epoch 18/30\n",
      "431/431 [==============================] - 2s 4ms/step - loss: 0.1863 - auc: 0.9795 - val_loss: 0.5451 - val_auc: 0.8671\n",
      "\n",
      "Epoch 00018: val_auc improved from 0.86464 to 0.86709, saving model to best_model.h5\n",
      "Epoch 19/30\n",
      "431/431 [==============================] - 2s 4ms/step - loss: 0.1657 - auc: 0.9847 - val_loss: 0.5689 - val_auc: 0.8688\n",
      "\n",
      "Epoch 00019: val_auc improved from 0.86709 to 0.86882, saving model to best_model.h5\n",
      "Epoch 20/30\n",
      "431/431 [==============================] - 2s 5ms/step - loss: 0.1530 - auc: 0.9866 - val_loss: 0.6061 - val_auc: 0.8625\n",
      "\n",
      "Epoch 00020: val_auc did not improve from 0.86882\n",
      "Epoch 21/30\n",
      "431/431 [==============================] - 2s 5ms/step - loss: 0.1534 - auc: 0.9864 - val_loss: 0.6033 - val_auc: 0.8670\n",
      "\n",
      "Epoch 00021: val_auc did not improve from 0.86882\n",
      "Epoch 22/30\n",
      "431/431 [==============================] - 2s 4ms/step - loss: 0.1353 - auc: 0.9895 - val_loss: 0.5770 - val_auc: 0.8719\n",
      "\n",
      "Epoch 00022: val_auc improved from 0.86882 to 0.87190, saving model to best_model.h5\n",
      "Epoch 23/30\n",
      "431/431 [==============================] - 2s 5ms/step - loss: 0.1237 - auc: 0.9912 - val_loss: 0.6158 - val_auc: 0.8703\n",
      "\n",
      "Epoch 00023: val_auc did not improve from 0.87190\n",
      "Epoch 24/30\n",
      "431/431 [==============================] - 2s 4ms/step - loss: 0.1110 - auc: 0.9932 - val_loss: 0.6399 - val_auc: 0.8695\n",
      "\n",
      "Epoch 00024: val_auc did not improve from 0.87190\n",
      "Epoch 25/30\n",
      "431/431 [==============================] - 2s 4ms/step - loss: 0.1131 - auc: 0.9923 - val_loss: 0.6414 - val_auc: 0.8722\n",
      "\n",
      "Epoch 00025: val_auc improved from 0.87190 to 0.87217, saving model to best_model.h5\n",
      "Epoch 26/30\n",
      "431/431 [==============================] - 2s 5ms/step - loss: 0.1034 - auc: 0.9937 - val_loss: 0.6435 - val_auc: 0.8770\n",
      "\n",
      "Epoch 00026: val_auc improved from 0.87217 to 0.87699, saving model to best_model.h5\n",
      "Epoch 27/30\n",
      "431/431 [==============================] - 2s 5ms/step - loss: 0.0959 - auc: 0.9947 - val_loss: 0.6987 - val_auc: 0.8712\n",
      "\n",
      "Epoch 00027: val_auc did not improve from 0.87699\n",
      "Epoch 28/30\n",
      "431/431 [==============================] - 2s 4ms/step - loss: 0.0955 - auc: 0.9947 - val_loss: 0.6905 - val_auc: 0.8734\n",
      "\n",
      "Epoch 00028: val_auc did not improve from 0.87699\n",
      "Epoch 29/30\n",
      "431/431 [==============================] - 2s 5ms/step - loss: 0.0960 - auc: 0.9943 - val_loss: 0.6926 - val_auc: 0.8749\n",
      "\n",
      "Epoch 00029: val_auc did not improve from 0.87699\n",
      "Epoch 30/30\n",
      "431/431 [==============================] - 2s 4ms/step - loss: 0.0839 - auc: 0.9959 - val_loss: 0.6785 - val_auc: 0.8801\n",
      "\n",
      "Epoch 00030: val_auc improved from 0.87699 to 0.88008, saving model to best_model.h5\n"
     ]
    }
   ],
   "source": [
    "model = get_model02()\n",
    "\n",
    "history = model.fit(x=X_train, y = y_train, epochs=30, callbacks=[model_checkpoint_callback], validation_data= (X_valid, y_valid))"
   ]
  },
  {
   "cell_type": "markdown",
   "id": "52f3b395",
   "metadata": {
    "papermill": {
     "duration": 0.29997,
     "end_time": "2021-10-03T04:13:15.039446",
     "exception": false,
     "start_time": "2021-10-03T04:13:14.739476",
     "status": "completed"
    },
    "tags": []
   },
   "source": [
    "# Load Our Best Model"
   ]
  },
  {
   "cell_type": "code",
   "execution_count": 17,
   "id": "7880a6d9",
   "metadata": {
    "execution": {
     "iopub.execute_input": "2021-10-03T04:13:15.656992Z",
     "iopub.status.busy": "2021-10-03T04:13:15.655584Z",
     "iopub.status.idle": "2021-10-03T04:13:15.736575Z",
     "shell.execute_reply": "2021-10-03T04:13:15.735591Z"
    },
    "papermill": {
     "duration": 0.400577,
     "end_time": "2021-10-03T04:13:15.736706",
     "exception": false,
     "start_time": "2021-10-03T04:13:15.336129",
     "status": "completed"
    },
    "tags": []
   },
   "outputs": [],
   "source": [
    "model_best = tf.keras.models.load_model(filepath=checkpoint_filepath)"
   ]
  },
  {
   "cell_type": "markdown",
   "id": "af42518e",
   "metadata": {
    "papermill": {
     "duration": 0.287398,
     "end_time": "2021-10-03T04:13:16.313506",
     "exception": false,
     "start_time": "2021-10-03T04:13:16.026108",
     "status": "completed"
    },
    "tags": []
   },
   "source": [
    "# Predictions on Validation Set"
   ]
  },
  {
   "cell_type": "code",
   "execution_count": 18,
   "id": "5bb06b44",
   "metadata": {
    "execution": {
     "iopub.execute_input": "2021-10-03T04:13:17.134275Z",
     "iopub.status.busy": "2021-10-03T04:13:17.133695Z",
     "iopub.status.idle": "2021-10-03T04:13:17.328439Z",
     "shell.execute_reply": "2021-10-03T04:13:17.329320Z"
    },
    "papermill": {
     "duration": 0.687968,
     "end_time": "2021-10-03T04:13:17.329517",
     "exception": false,
     "start_time": "2021-10-03T04:13:16.641549",
     "status": "completed"
    },
    "tags": []
   },
   "outputs": [
    {
     "name": "stdout",
     "output_type": "stream",
     "text": [
      "Validation AUC=0.89847119059638\n"
     ]
    }
   ],
   "source": [
    "y_pred = model_best.predict(X_valid)\n",
    "\n",
    "pred = np.argmax(y_pred, axis=1)\n",
    "\n",
    "result = pd.DataFrame(trainidt_valid)\n",
    "result[1] = pred\n",
    "\n",
    "result.columns = [\"BraTS21ID\", \"MGMT_value\"]\n",
    "result2 = result.groupby(\"BraTS21ID\", as_index=False).mean()\n",
    "\n",
    "result2 = result2.merge(train_df, on=\"BraTS21ID\")\n",
    "auc = roc_auc_score(\n",
    "    result2.MGMT_value_y,\n",
    "    result2.MGMT_value_x,\n",
    ")\n",
    "print(f\"Validation AUC={auc}\")"
   ]
  },
  {
   "cell_type": "markdown",
   "id": "5c7d9ec1",
   "metadata": {
    "papermill": {
     "duration": 0.462726,
     "end_time": "2021-10-03T04:13:18.096537",
     "exception": false,
     "start_time": "2021-10-03T04:13:17.633811",
     "status": "completed"
    },
    "tags": []
   },
   "source": [
    "# Predictions on the Test Set"
   ]
  },
  {
   "cell_type": "code",
   "execution_count": 19,
   "id": "e8669a05",
   "metadata": {
    "execution": {
     "iopub.execute_input": "2021-10-03T04:13:18.978516Z",
     "iopub.status.busy": "2021-10-03T04:13:18.977687Z",
     "iopub.status.idle": "2021-10-03T04:13:19.154970Z",
     "shell.execute_reply": "2021-10-03T04:13:19.155725Z"
    },
    "papermill": {
     "duration": 0.527786,
     "end_time": "2021-10-03T04:13:19.155903",
     "exception": false,
     "start_time": "2021-10-03T04:13:18.628117",
     "status": "completed"
    },
    "tags": []
   },
   "outputs": [
    {
     "data": {
      "text/plain": [
       "array([0, 1, 1, ..., 0, 0, 0])"
      ]
     },
     "execution_count": 19,
     "metadata": {},
     "output_type": "execute_result"
    }
   ],
   "source": [
    "y_pred = model_best.predict(X_test)\n",
    "\n",
    "pred = np.argmax(y_pred, axis=1) #\n",
    "\n",
    "result = pd.DataFrame(testidt)\n",
    "result[1] = pred\n",
    "pred"
   ]
  },
  {
   "cell_type": "markdown",
   "id": "a53179be",
   "metadata": {
    "papermill": {
     "duration": 0.292533,
     "end_time": "2021-10-03T04:13:19.748016",
     "exception": false,
     "start_time": "2021-10-03T04:13:19.455483",
     "status": "completed"
    },
    "tags": []
   },
   "source": [
    "# Submission File"
   ]
  },
  {
   "cell_type": "code",
   "execution_count": 20,
   "id": "39140ace",
   "metadata": {
    "execution": {
     "iopub.execute_input": "2021-10-03T04:13:20.348906Z",
     "iopub.status.busy": "2021-10-03T04:13:20.346842Z",
     "iopub.status.idle": "2021-10-03T04:13:20.369196Z",
     "shell.execute_reply": "2021-10-03T04:13:20.369720Z"
    },
    "papermill": {
     "duration": 0.326988,
     "end_time": "2021-10-03T04:13:20.369865",
     "exception": false,
     "start_time": "2021-10-03T04:13:20.042877",
     "status": "completed"
    },
    "tags": []
   },
   "outputs": [
    {
     "data": {
      "text/html": [
       "<div>\n",
       "<style scoped>\n",
       "    .dataframe tbody tr th:only-of-type {\n",
       "        vertical-align: middle;\n",
       "    }\n",
       "\n",
       "    .dataframe tbody tr th {\n",
       "        vertical-align: top;\n",
       "    }\n",
       "\n",
       "    .dataframe thead th {\n",
       "        text-align: right;\n",
       "    }\n",
       "</style>\n",
       "<table border=\"1\" class=\"dataframe\">\n",
       "  <thead>\n",
       "    <tr style=\"text-align: right;\">\n",
       "      <th></th>\n",
       "      <th>BraTS21ID</th>\n",
       "      <th>MGMT_value</th>\n",
       "    </tr>\n",
       "  </thead>\n",
       "  <tbody>\n",
       "    <tr>\n",
       "      <th>0</th>\n",
       "      <td>1</td>\n",
       "      <td>0.9</td>\n",
       "    </tr>\n",
       "    <tr>\n",
       "      <th>1</th>\n",
       "      <td>13</td>\n",
       "      <td>0.6</td>\n",
       "    </tr>\n",
       "    <tr>\n",
       "      <th>2</th>\n",
       "      <td>15</td>\n",
       "      <td>0.8</td>\n",
       "    </tr>\n",
       "    <tr>\n",
       "      <th>3</th>\n",
       "      <td>27</td>\n",
       "      <td>0.8</td>\n",
       "    </tr>\n",
       "    <tr>\n",
       "      <th>4</th>\n",
       "      <td>37</td>\n",
       "      <td>0.9</td>\n",
       "    </tr>\n",
       "    <tr>\n",
       "      <th>...</th>\n",
       "      <td>...</td>\n",
       "      <td>...</td>\n",
       "    </tr>\n",
       "    <tr>\n",
       "      <th>82</th>\n",
       "      <td>826</td>\n",
       "      <td>0.4</td>\n",
       "    </tr>\n",
       "    <tr>\n",
       "      <th>83</th>\n",
       "      <td>829</td>\n",
       "      <td>0.6</td>\n",
       "    </tr>\n",
       "    <tr>\n",
       "      <th>84</th>\n",
       "      <td>833</td>\n",
       "      <td>0.5</td>\n",
       "    </tr>\n",
       "    <tr>\n",
       "      <th>85</th>\n",
       "      <td>997</td>\n",
       "      <td>0.0</td>\n",
       "    </tr>\n",
       "    <tr>\n",
       "      <th>86</th>\n",
       "      <td>1006</td>\n",
       "      <td>0.7</td>\n",
       "    </tr>\n",
       "  </tbody>\n",
       "</table>\n",
       "<p>87 rows × 2 columns</p>\n",
       "</div>"
      ],
      "text/plain": [
       "    BraTS21ID  MGMT_value\n",
       "0           1         0.9\n",
       "1          13         0.6\n",
       "2          15         0.8\n",
       "3          27         0.8\n",
       "4          37         0.9\n",
       "..        ...         ...\n",
       "82        826         0.4\n",
       "83        829         0.6\n",
       "84        833         0.5\n",
       "85        997         0.0\n",
       "86       1006         0.7\n",
       "\n",
       "[87 rows x 2 columns]"
      ]
     },
     "execution_count": 20,
     "metadata": {},
     "output_type": "execute_result"
    }
   ],
   "source": [
    "result.columns=['BraTS21ID','MGMT_value']\n",
    "\n",
    "result2 = result.groupby('BraTS21ID',as_index=False).mean()\n",
    "result2['BraTS21ID'] = sample_submission['BraTS21ID']\n",
    "\n",
    "# Rounding...\n",
    "result2['MGMT_value'] = result2['MGMT_value'].apply(lambda x:round(x*10)/10)\n",
    "result2.to_csv('submission.csv',index=False)\n",
    "result2"
   ]
  }
 ],
 "metadata": {
  "kernelspec": {
   "display_name": "Python 3",
   "language": "python",
   "name": "python3"
  },
  "language_info": {
   "codemirror_mode": {
    "name": "ipython",
    "version": 3
   },
   "file_extension": ".py",
   "mimetype": "text/x-python",
   "name": "python",
   "nbconvert_exporter": "python",
   "pygments_lexer": "ipython3",
   "version": "3.7.10"
  },
  "papermill": {
   "default_parameters": {},
   "duration": 237.750923,
   "end_time": "2021-10-03T04:13:24.498337",
   "environment_variables": {},
   "exception": null,
   "input_path": "__notebook__.ipynb",
   "output_path": "__notebook__.ipynb",
   "parameters": {},
   "start_time": "2021-10-03T04:09:26.747414",
   "version": "2.3.3"
  },
  "widgets": {
   "application/vnd.jupyter.widget-state+json": {
    "state": {
     "0bdc658213ca4553bab2169e3dadce82": {
      "model_module": "@jupyter-widgets/controls",
      "model_module_version": "1.5.0",
      "model_name": "ProgressStyleModel",
      "state": {
       "_model_module": "@jupyter-widgets/controls",
       "_model_module_version": "1.5.0",
       "_model_name": "ProgressStyleModel",
       "_view_count": null,
       "_view_module": "@jupyter-widgets/base",
       "_view_module_version": "1.2.0",
       "_view_name": "StyleView",
       "bar_color": null,
       "description_width": ""
      }
     },
     "106bb3281dc943f0adf2d1ff6bce9bd5": {
      "model_module": "@jupyter-widgets/controls",
      "model_module_version": "1.5.0",
      "model_name": "HBoxModel",
      "state": {
       "_dom_classes": [],
       "_model_module": "@jupyter-widgets/controls",
       "_model_module_version": "1.5.0",
       "_model_name": "HBoxModel",
       "_view_count": null,
       "_view_module": "@jupyter-widgets/controls",
       "_view_module_version": "1.5.0",
       "_view_name": "HBoxView",
       "box_style": "",
       "children": [
        "IPY_MODEL_9724c5dc6b834349bad74673b01c4fde",
        "IPY_MODEL_e6ce3361fa3b47ef874531c37b9758f0",
        "IPY_MODEL_dced83a25b0d434f99aac36c10dc4b55"
       ],
       "layout": "IPY_MODEL_b25ba119e87b482487855a79474829fc"
      }
     },
     "1343ff09a1084917bf971b978c5acaa7": {
      "model_module": "@jupyter-widgets/base",
      "model_module_version": "1.2.0",
      "model_name": "LayoutModel",
      "state": {
       "_model_module": "@jupyter-widgets/base",
       "_model_module_version": "1.2.0",
       "_model_name": "LayoutModel",
       "_view_count": null,
       "_view_module": "@jupyter-widgets/base",
       "_view_module_version": "1.2.0",
       "_view_name": "LayoutView",
       "align_content": null,
       "align_items": null,
       "align_self": null,
       "border": null,
       "bottom": null,
       "display": null,
       "flex": null,
       "flex_flow": null,
       "grid_area": null,
       "grid_auto_columns": null,
       "grid_auto_flow": null,
       "grid_auto_rows": null,
       "grid_column": null,
       "grid_gap": null,
       "grid_row": null,
       "grid_template_areas": null,
       "grid_template_columns": null,
       "grid_template_rows": null,
       "height": null,
       "justify_content": null,
       "justify_items": null,
       "left": null,
       "margin": null,
       "max_height": null,
       "max_width": null,
       "min_height": null,
       "min_width": null,
       "object_fit": null,
       "object_position": null,
       "order": null,
       "overflow": null,
       "overflow_x": null,
       "overflow_y": null,
       "padding": null,
       "right": null,
       "top": null,
       "visibility": null,
       "width": null
      }
     },
     "19f53fb07faf4893b11b060baf4ecfd9": {
      "model_module": "@jupyter-widgets/base",
      "model_module_version": "1.2.0",
      "model_name": "LayoutModel",
      "state": {
       "_model_module": "@jupyter-widgets/base",
       "_model_module_version": "1.2.0",
       "_model_name": "LayoutModel",
       "_view_count": null,
       "_view_module": "@jupyter-widgets/base",
       "_view_module_version": "1.2.0",
       "_view_name": "LayoutView",
       "align_content": null,
       "align_items": null,
       "align_self": null,
       "border": null,
       "bottom": null,
       "display": null,
       "flex": null,
       "flex_flow": null,
       "grid_area": null,
       "grid_auto_columns": null,
       "grid_auto_flow": null,
       "grid_auto_rows": null,
       "grid_column": null,
       "grid_gap": null,
       "grid_row": null,
       "grid_template_areas": null,
       "grid_template_columns": null,
       "grid_template_rows": null,
       "height": null,
       "justify_content": null,
       "justify_items": null,
       "left": null,
       "margin": null,
       "max_height": null,
       "max_width": null,
       "min_height": null,
       "min_width": null,
       "object_fit": null,
       "object_position": null,
       "order": null,
       "overflow": null,
       "overflow_x": null,
       "overflow_y": null,
       "padding": null,
       "right": null,
       "top": null,
       "visibility": null,
       "width": null
      }
     },
     "1d0e46a219a04c9dbb83cf0d548dd2d6": {
      "model_module": "@jupyter-widgets/controls",
      "model_module_version": "1.5.0",
      "model_name": "HTMLModel",
      "state": {
       "_dom_classes": [],
       "_model_module": "@jupyter-widgets/controls",
       "_model_module_version": "1.5.0",
       "_model_name": "HTMLModel",
       "_view_count": null,
       "_view_module": "@jupyter-widgets/controls",
       "_view_module_version": "1.5.0",
       "_view_name": "HTMLView",
       "description": "",
       "description_tooltip": null,
       "layout": "IPY_MODEL_19f53fb07faf4893b11b060baf4ecfd9",
       "placeholder": "​",
       "style": "IPY_MODEL_d9e086b5871e4659ae94c8da017e563a",
       "value": " 87/87 [00:20&lt;00:00,  8.97it/s]"
      }
     },
     "22369d77fa9d43daa0201ef230f609ed": {
      "model_module": "@jupyter-widgets/controls",
      "model_module_version": "1.5.0",
      "model_name": "ProgressStyleModel",
      "state": {
       "_model_module": "@jupyter-widgets/controls",
       "_model_module_version": "1.5.0",
       "_model_name": "ProgressStyleModel",
       "_view_count": null,
       "_view_module": "@jupyter-widgets/base",
       "_view_module_version": "1.2.0",
       "_view_name": "StyleView",
       "bar_color": null,
       "description_width": ""
      }
     },
     "3163463585c44f1d9cee73d3b436fb19": {
      "model_module": "@jupyter-widgets/base",
      "model_module_version": "1.2.0",
      "model_name": "LayoutModel",
      "state": {
       "_model_module": "@jupyter-widgets/base",
       "_model_module_version": "1.2.0",
       "_model_name": "LayoutModel",
       "_view_count": null,
       "_view_module": "@jupyter-widgets/base",
       "_view_module_version": "1.2.0",
       "_view_name": "LayoutView",
       "align_content": null,
       "align_items": null,
       "align_self": null,
       "border": null,
       "bottom": null,
       "display": null,
       "flex": null,
       "flex_flow": null,
       "grid_area": null,
       "grid_auto_columns": null,
       "grid_auto_flow": null,
       "grid_auto_rows": null,
       "grid_column": null,
       "grid_gap": null,
       "grid_row": null,
       "grid_template_areas": null,
       "grid_template_columns": null,
       "grid_template_rows": null,
       "height": null,
       "justify_content": null,
       "justify_items": null,
       "left": null,
       "margin": null,
       "max_height": null,
       "max_width": null,
       "min_height": null,
       "min_width": null,
       "object_fit": null,
       "object_position": null,
       "order": null,
       "overflow": null,
       "overflow_x": null,
       "overflow_y": null,
       "padding": null,
       "right": null,
       "top": null,
       "visibility": null,
       "width": null
      }
     },
     "3669ce2d49164b34b5f1f1cdacae29d2": {
      "model_module": "@jupyter-widgets/controls",
      "model_module_version": "1.5.0",
      "model_name": "HBoxModel",
      "state": {
       "_dom_classes": [],
       "_model_module": "@jupyter-widgets/controls",
       "_model_module_version": "1.5.0",
       "_model_name": "HBoxModel",
       "_view_count": null,
       "_view_module": "@jupyter-widgets/controls",
       "_view_module_version": "1.5.0",
       "_view_name": "HBoxView",
       "box_style": "",
       "children": [
        "IPY_MODEL_d7d417dae98f400cac9e3fa4b0be8071",
        "IPY_MODEL_f9d41328e18349d1ac9b5c1b87d08598",
        "IPY_MODEL_1d0e46a219a04c9dbb83cf0d548dd2d6"
       ],
       "layout": "IPY_MODEL_3163463585c44f1d9cee73d3b436fb19"
      }
     },
     "5b4875cb87124f8d829f2a7fd8c53a47": {
      "model_module": "@jupyter-widgets/base",
      "model_module_version": "1.2.0",
      "model_name": "LayoutModel",
      "state": {
       "_model_module": "@jupyter-widgets/base",
       "_model_module_version": "1.2.0",
       "_model_name": "LayoutModel",
       "_view_count": null,
       "_view_module": "@jupyter-widgets/base",
       "_view_module_version": "1.2.0",
       "_view_name": "LayoutView",
       "align_content": null,
       "align_items": null,
       "align_self": null,
       "border": null,
       "bottom": null,
       "display": null,
       "flex": null,
       "flex_flow": null,
       "grid_area": null,
       "grid_auto_columns": null,
       "grid_auto_flow": null,
       "grid_auto_rows": null,
       "grid_column": null,
       "grid_gap": null,
       "grid_row": null,
       "grid_template_areas": null,
       "grid_template_columns": null,
       "grid_template_rows": null,
       "height": null,
       "justify_content": null,
       "justify_items": null,
       "left": null,
       "margin": null,
       "max_height": null,
       "max_width": null,
       "min_height": null,
       "min_width": null,
       "object_fit": null,
       "object_position": null,
       "order": null,
       "overflow": null,
       "overflow_x": null,
       "overflow_y": null,
       "padding": null,
       "right": null,
       "top": null,
       "visibility": null,
       "width": null
      }
     },
     "6b0eaa4cd66642a2b9bb29576360c535": {
      "model_module": "@jupyter-widgets/controls",
      "model_module_version": "1.5.0",
      "model_name": "DescriptionStyleModel",
      "state": {
       "_model_module": "@jupyter-widgets/controls",
       "_model_module_version": "1.5.0",
       "_model_name": "DescriptionStyleModel",
       "_view_count": null,
       "_view_module": "@jupyter-widgets/base",
       "_view_module_version": "1.2.0",
       "_view_name": "StyleView",
       "description_width": ""
      }
     },
     "6f24f96aa65d40c1a2bd90246bd13e63": {
      "model_module": "@jupyter-widgets/controls",
      "model_module_version": "1.5.0",
      "model_name": "DescriptionStyleModel",
      "state": {
       "_model_module": "@jupyter-widgets/controls",
       "_model_module_version": "1.5.0",
       "_model_name": "DescriptionStyleModel",
       "_view_count": null,
       "_view_module": "@jupyter-widgets/base",
       "_view_module_version": "1.2.0",
       "_view_name": "StyleView",
       "description_width": ""
      }
     },
     "938fd1fcd770425b835e6b75ae6a690d": {
      "model_module": "@jupyter-widgets/base",
      "model_module_version": "1.2.0",
      "model_name": "LayoutModel",
      "state": {
       "_model_module": "@jupyter-widgets/base",
       "_model_module_version": "1.2.0",
       "_model_name": "LayoutModel",
       "_view_count": null,
       "_view_module": "@jupyter-widgets/base",
       "_view_module_version": "1.2.0",
       "_view_name": "LayoutView",
       "align_content": null,
       "align_items": null,
       "align_self": null,
       "border": null,
       "bottom": null,
       "display": null,
       "flex": null,
       "flex_flow": null,
       "grid_area": null,
       "grid_auto_columns": null,
       "grid_auto_flow": null,
       "grid_auto_rows": null,
       "grid_column": null,
       "grid_gap": null,
       "grid_row": null,
       "grid_template_areas": null,
       "grid_template_columns": null,
       "grid_template_rows": null,
       "height": null,
       "justify_content": null,
       "justify_items": null,
       "left": null,
       "margin": null,
       "max_height": null,
       "max_width": null,
       "min_height": null,
       "min_width": null,
       "object_fit": null,
       "object_position": null,
       "order": null,
       "overflow": null,
       "overflow_x": null,
       "overflow_y": null,
       "padding": null,
       "right": null,
       "top": null,
       "visibility": null,
       "width": null
      }
     },
     "9724c5dc6b834349bad74673b01c4fde": {
      "model_module": "@jupyter-widgets/controls",
      "model_module_version": "1.5.0",
      "model_name": "HTMLModel",
      "state": {
       "_dom_classes": [],
       "_model_module": "@jupyter-widgets/controls",
       "_model_module_version": "1.5.0",
       "_model_name": "HTMLModel",
       "_view_count": null,
       "_view_module": "@jupyter-widgets/controls",
       "_view_module_version": "1.5.0",
       "_view_name": "HTMLView",
       "description": "",
       "description_tooltip": null,
       "layout": "IPY_MODEL_1343ff09a1084917bf971b978c5acaa7",
       "placeholder": "​",
       "style": "IPY_MODEL_6f24f96aa65d40c1a2bd90246bd13e63",
       "value": "100%"
      }
     },
     "a8ec0d5edc0e4db89a3899ec3779a5ce": {
      "model_module": "@jupyter-widgets/base",
      "model_module_version": "1.2.0",
      "model_name": "LayoutModel",
      "state": {
       "_model_module": "@jupyter-widgets/base",
       "_model_module_version": "1.2.0",
       "_model_name": "LayoutModel",
       "_view_count": null,
       "_view_module": "@jupyter-widgets/base",
       "_view_module_version": "1.2.0",
       "_view_name": "LayoutView",
       "align_content": null,
       "align_items": null,
       "align_self": null,
       "border": null,
       "bottom": null,
       "display": null,
       "flex": null,
       "flex_flow": null,
       "grid_area": null,
       "grid_auto_columns": null,
       "grid_auto_flow": null,
       "grid_auto_rows": null,
       "grid_column": null,
       "grid_gap": null,
       "grid_row": null,
       "grid_template_areas": null,
       "grid_template_columns": null,
       "grid_template_rows": null,
       "height": null,
       "justify_content": null,
       "justify_items": null,
       "left": null,
       "margin": null,
       "max_height": null,
       "max_width": null,
       "min_height": null,
       "min_width": null,
       "object_fit": null,
       "object_position": null,
       "order": null,
       "overflow": null,
       "overflow_x": null,
       "overflow_y": null,
       "padding": null,
       "right": null,
       "top": null,
       "visibility": null,
       "width": null
      }
     },
     "b25ba119e87b482487855a79474829fc": {
      "model_module": "@jupyter-widgets/base",
      "model_module_version": "1.2.0",
      "model_name": "LayoutModel",
      "state": {
       "_model_module": "@jupyter-widgets/base",
       "_model_module_version": "1.2.0",
       "_model_name": "LayoutModel",
       "_view_count": null,
       "_view_module": "@jupyter-widgets/base",
       "_view_module_version": "1.2.0",
       "_view_name": "LayoutView",
       "align_content": null,
       "align_items": null,
       "align_self": null,
       "border": null,
       "bottom": null,
       "display": null,
       "flex": null,
       "flex_flow": null,
       "grid_area": null,
       "grid_auto_columns": null,
       "grid_auto_flow": null,
       "grid_auto_rows": null,
       "grid_column": null,
       "grid_gap": null,
       "grid_row": null,
       "grid_template_areas": null,
       "grid_template_columns": null,
       "grid_template_rows": null,
       "height": null,
       "justify_content": null,
       "justify_items": null,
       "left": null,
       "margin": null,
       "max_height": null,
       "max_width": null,
       "min_height": null,
       "min_width": null,
       "object_fit": null,
       "object_position": null,
       "order": null,
       "overflow": null,
       "overflow_x": null,
       "overflow_y": null,
       "padding": null,
       "right": null,
       "top": null,
       "visibility": null,
       "width": null
      }
     },
     "d7d417dae98f400cac9e3fa4b0be8071": {
      "model_module": "@jupyter-widgets/controls",
      "model_module_version": "1.5.0",
      "model_name": "HTMLModel",
      "state": {
       "_dom_classes": [],
       "_model_module": "@jupyter-widgets/controls",
       "_model_module_version": "1.5.0",
       "_model_name": "HTMLModel",
       "_view_count": null,
       "_view_module": "@jupyter-widgets/controls",
       "_view_module_version": "1.5.0",
       "_view_name": "HTMLView",
       "description": "",
       "description_tooltip": null,
       "layout": "IPY_MODEL_938fd1fcd770425b835e6b75ae6a690d",
       "placeholder": "​",
       "style": "IPY_MODEL_f28c9fd3907d4fd0a5936b59bbc5aeb0",
       "value": "100%"
      }
     },
     "d9e086b5871e4659ae94c8da017e563a": {
      "model_module": "@jupyter-widgets/controls",
      "model_module_version": "1.5.0",
      "model_name": "DescriptionStyleModel",
      "state": {
       "_model_module": "@jupyter-widgets/controls",
       "_model_module_version": "1.5.0",
       "_model_name": "DescriptionStyleModel",
       "_view_count": null,
       "_view_module": "@jupyter-widgets/base",
       "_view_module_version": "1.2.0",
       "_view_name": "StyleView",
       "description_width": ""
      }
     },
     "dced83a25b0d434f99aac36c10dc4b55": {
      "model_module": "@jupyter-widgets/controls",
      "model_module_version": "1.5.0",
      "model_name": "HTMLModel",
      "state": {
       "_dom_classes": [],
       "_model_module": "@jupyter-widgets/controls",
       "_model_module_version": "1.5.0",
       "_model_name": "HTMLModel",
       "_view_count": null,
       "_view_module": "@jupyter-widgets/controls",
       "_view_module_version": "1.5.0",
       "_view_name": "HTMLView",
       "description": "",
       "description_tooltip": null,
       "layout": "IPY_MODEL_5b4875cb87124f8d829f2a7fd8c53a47",
       "placeholder": "​",
       "style": "IPY_MODEL_6b0eaa4cd66642a2b9bb29576360c535",
       "value": " 582/582 [02:04&lt;00:00,  9.99it/s]"
      }
     },
     "e6ce3361fa3b47ef874531c37b9758f0": {
      "model_module": "@jupyter-widgets/controls",
      "model_module_version": "1.5.0",
      "model_name": "FloatProgressModel",
      "state": {
       "_dom_classes": [],
       "_model_module": "@jupyter-widgets/controls",
       "_model_module_version": "1.5.0",
       "_model_name": "FloatProgressModel",
       "_view_count": null,
       "_view_module": "@jupyter-widgets/controls",
       "_view_module_version": "1.5.0",
       "_view_name": "ProgressView",
       "bar_style": "success",
       "description": "",
       "description_tooltip": null,
       "layout": "IPY_MODEL_e8ca725b0a0a4b75aaa0d2328eeda765",
       "max": 582.0,
       "min": 0.0,
       "orientation": "horizontal",
       "style": "IPY_MODEL_22369d77fa9d43daa0201ef230f609ed",
       "value": 582.0
      }
     },
     "e8ca725b0a0a4b75aaa0d2328eeda765": {
      "model_module": "@jupyter-widgets/base",
      "model_module_version": "1.2.0",
      "model_name": "LayoutModel",
      "state": {
       "_model_module": "@jupyter-widgets/base",
       "_model_module_version": "1.2.0",
       "_model_name": "LayoutModel",
       "_view_count": null,
       "_view_module": "@jupyter-widgets/base",
       "_view_module_version": "1.2.0",
       "_view_name": "LayoutView",
       "align_content": null,
       "align_items": null,
       "align_self": null,
       "border": null,
       "bottom": null,
       "display": null,
       "flex": null,
       "flex_flow": null,
       "grid_area": null,
       "grid_auto_columns": null,
       "grid_auto_flow": null,
       "grid_auto_rows": null,
       "grid_column": null,
       "grid_gap": null,
       "grid_row": null,
       "grid_template_areas": null,
       "grid_template_columns": null,
       "grid_template_rows": null,
       "height": null,
       "justify_content": null,
       "justify_items": null,
       "left": null,
       "margin": null,
       "max_height": null,
       "max_width": null,
       "min_height": null,
       "min_width": null,
       "object_fit": null,
       "object_position": null,
       "order": null,
       "overflow": null,
       "overflow_x": null,
       "overflow_y": null,
       "padding": null,
       "right": null,
       "top": null,
       "visibility": null,
       "width": null
      }
     },
     "f28c9fd3907d4fd0a5936b59bbc5aeb0": {
      "model_module": "@jupyter-widgets/controls",
      "model_module_version": "1.5.0",
      "model_name": "DescriptionStyleModel",
      "state": {
       "_model_module": "@jupyter-widgets/controls",
       "_model_module_version": "1.5.0",
       "_model_name": "DescriptionStyleModel",
       "_view_count": null,
       "_view_module": "@jupyter-widgets/base",
       "_view_module_version": "1.2.0",
       "_view_name": "StyleView",
       "description_width": ""
      }
     },
     "f9d41328e18349d1ac9b5c1b87d08598": {
      "model_module": "@jupyter-widgets/controls",
      "model_module_version": "1.5.0",
      "model_name": "FloatProgressModel",
      "state": {
       "_dom_classes": [],
       "_model_module": "@jupyter-widgets/controls",
       "_model_module_version": "1.5.0",
       "_model_name": "FloatProgressModel",
       "_view_count": null,
       "_view_module": "@jupyter-widgets/controls",
       "_view_module_version": "1.5.0",
       "_view_name": "ProgressView",
       "bar_style": "success",
       "description": "",
       "description_tooltip": null,
       "layout": "IPY_MODEL_a8ec0d5edc0e4db89a3899ec3779a5ce",
       "max": 87.0,
       "min": 0.0,
       "orientation": "horizontal",
       "style": "IPY_MODEL_0bdc658213ca4553bab2169e3dadce82",
       "value": 87.0
      }
     }
    },
    "version_major": 2,
    "version_minor": 0
   }
  }
 },
 "nbformat": 4,
 "nbformat_minor": 5
}
